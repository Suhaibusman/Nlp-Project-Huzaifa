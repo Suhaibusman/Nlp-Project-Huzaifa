{
 "cells": [
  {
   "cell_type": "code",
   "execution_count": 48,
   "id": "5f340d49-60ba-4dcb-91b8-4f07ac42f543",
   "metadata": {},
   "outputs": [],
   "source": [
    "import tensorflow\n",
    "from keras.applications.resnet50 import ResNet50, preprocess_input\n",
    "from tensorflow.keras.layers import GlobalMaxPooling2D"
   ]
  },
  {
   "cell_type": "code",
   "execution_count": 49,
   "id": "7237824a-af81-489f-b534-4d5c1366fbc5",
   "metadata": {},
   "outputs": [],
   "source": [
    "model=ResNet50(weights='imagenet',include_top=False,input_shape=(224,224,3))\n",
    "model.trainable=False"
   ]
  },
  {
   "cell_type": "code",
   "execution_count": 50,
   "id": "b66adf11-98b3-4dd2-a087-2157ad5a1550",
   "metadata": {},
   "outputs": [
    {
     "name": "stdout",
     "output_type": "stream",
     "text": [
      "Model: \"sequential\"\n",
      "_________________________________________________________________\n",
      " Layer (type)                Output Shape              Param #   \n",
      "=================================================================\n",
      " resnet50 (Functional)       (None, 7, 7, 2048)        23587712  \n",
      "                                                                 \n",
      " max_pooling2d (MaxPooling2  (None, 3, 3, 2048)        0         \n",
      " D)                                                              \n",
      "                                                                 \n",
      "=================================================================\n",
      "Total params: 23587712 (89.98 MB)\n",
      "Trainable params: 0 (0.00 Byte)\n",
      "Non-trainable params: 23587712 (89.98 MB)\n",
      "_________________________________________________________________\n"
     ]
    }
   ],
   "source": [
    "import tensorflow as tf\n",
    "from tensorflow.keras.layers import MaxPooling2D\n",
    "\n",
    "# Assuming 'model' is already defined before this snippet\n",
    "\n",
    "model = tf.keras.Sequential([\n",
    "    model,\n",
    "    MaxPooling2D()\n",
    "])\n",
    "model.summary()\n",
    "\n"
   ]
  },
  {
   "cell_type": "code",
   "execution_count": 24,
   "id": "1f368e47-7b9b-426d-91e1-7d707f16290a",
   "metadata": {},
   "outputs": [
    {
     "name": "stdout",
     "output_type": "stream",
     "text": [
      "Defaulting to user installation because normal site-packages is not writeableNote: you may need to restart the kernel to use updated packages.\n",
      "\n",
      "Requirement already satisfied: opencv-python in c:\\users\\huzai\\appdata\\roaming\\python\\python311\\site-packages (4.9.0.80)\n",
      "Requirement already satisfied: numpy>=1.21.2 in c:\\users\\huzai\\appdata\\roaming\\python\\python311\\site-packages (from opencv-python) (1.26.3)\n"
     ]
    }
   ],
   "source": [
    "pip install opencv-python"
   ]
  },
  {
   "cell_type": "code",
   "execution_count": 25,
   "id": "e17ad0f3-0749-467f-a426-a7514bba0d61",
   "metadata": {},
   "outputs": [],
   "source": [
    "import cv2\n",
    "import numpy as np\n",
    "from numpy.linalg import norm"
   ]
  },
  {
   "cell_type": "code",
   "execution_count": 26,
   "id": "8da49c89-861a-4d25-b5d6-0846d2e6b608",
   "metadata": {},
   "outputs": [],
   "source": [
    "img = cv2.imread(\"1636.jpg\")\n",
    "img = cv2.resize(img,(224,224))\n"
   ]
  },
  {
   "cell_type": "code",
   "execution_count": 27,
   "id": "0f17e3f5-d4aa-4645-8c1f-7f53d2584005",
   "metadata": {},
   "outputs": [],
   "source": [
    "img=np.array(img)"
   ]
  },
  {
   "cell_type": "code",
   "execution_count": 28,
   "id": "32f9cc62-2e5c-477d-9b7a-a8fc2a531907",
   "metadata": {},
   "outputs": [
    {
     "data": {
      "text/plain": [
       "(224, 224, 3)"
      ]
     },
     "execution_count": 28,
     "metadata": {},
     "output_type": "execute_result"
    }
   ],
   "source": [
    "img.shape"
   ]
  },
  {
   "cell_type": "code",
   "execution_count": 29,
   "id": "8fdd4648-1bed-4f05-9093-3086b06f1784",
   "metadata": {},
   "outputs": [],
   "source": [
    "# (number_of_image,224,224,3)\n",
    "expand_img=np.expand_dims(img,axis=0)"
   ]
  },
  {
   "cell_type": "code",
   "execution_count": 30,
   "id": "95f05805-0028-4b31-aaee-a1d2239e9e12",
   "metadata": {},
   "outputs": [
    {
     "data": {
      "text/plain": [
       "(1, 224, 224, 3)"
      ]
     },
     "execution_count": 30,
     "metadata": {},
     "output_type": "execute_result"
    }
   ],
   "source": [
    "expand_img.shape"
   ]
  },
  {
   "cell_type": "code",
   "execution_count": 31,
   "id": "bf1ec7d0-f42e-47ea-87b3-1f3bd841d2f4",
   "metadata": {},
   "outputs": [],
   "source": [
    "pre_img=preprocess_input(expand_img)"
   ]
  },
  {
   "cell_type": "code",
   "execution_count": 32,
   "id": "2e984bed-8312-410c-bccc-9c168efff580",
   "metadata": {},
   "outputs": [
    {
     "data": {
      "text/plain": [
       "array([[[[151.061  , 138.22101, 131.32   ],\n",
       "         [151.061  , 138.22101, 131.32   ],\n",
       "         [151.061  , 138.22101, 131.32   ],\n",
       "         ...,\n",
       "         [151.061  , 138.22101, 131.32   ],\n",
       "         [151.061  , 138.22101, 131.32   ],\n",
       "         [151.061  , 138.22101, 131.32   ]],\n",
       "\n",
       "        [[151.061  , 138.22101, 131.32   ],\n",
       "         [151.061  , 138.22101, 131.32   ],\n",
       "         [151.061  , 138.22101, 131.32   ],\n",
       "         ...,\n",
       "         [151.061  , 138.22101, 131.32   ],\n",
       "         [151.061  , 138.22101, 131.32   ],\n",
       "         [151.061  , 138.22101, 131.32   ]],\n",
       "\n",
       "        [[151.061  , 138.22101, 131.32   ],\n",
       "         [151.061  , 138.22101, 131.32   ],\n",
       "         [151.061  , 138.22101, 131.32   ],\n",
       "         ...,\n",
       "         [151.061  , 138.22101, 131.32   ],\n",
       "         [151.061  , 138.22101, 131.32   ],\n",
       "         [151.061  , 138.22101, 131.32   ]],\n",
       "\n",
       "        ...,\n",
       "\n",
       "        [[151.061  , 138.22101, 131.32   ],\n",
       "         [151.061  , 138.22101, 131.32   ],\n",
       "         [151.061  , 138.22101, 131.32   ],\n",
       "         ...,\n",
       "         [151.061  , 138.22101, 131.32   ],\n",
       "         [151.061  , 138.22101, 131.32   ],\n",
       "         [151.061  , 138.22101, 131.32   ]],\n",
       "\n",
       "        [[151.061  , 138.22101, 131.32   ],\n",
       "         [151.061  , 138.22101, 131.32   ],\n",
       "         [151.061  , 138.22101, 131.32   ],\n",
       "         ...,\n",
       "         [151.061  , 138.22101, 131.32   ],\n",
       "         [151.061  , 138.22101, 131.32   ],\n",
       "         [151.061  , 138.22101, 131.32   ]],\n",
       "\n",
       "        [[151.061  , 138.22101, 131.32   ],\n",
       "         [151.061  , 138.22101, 131.32   ],\n",
       "         [151.061  , 138.22101, 131.32   ],\n",
       "         ...,\n",
       "         [151.061  , 138.22101, 131.32   ],\n",
       "         [151.061  , 138.22101, 131.32   ],\n",
       "         [151.061  , 138.22101, 131.32   ]]]], dtype=float32)"
      ]
     },
     "execution_count": 32,
     "metadata": {},
     "output_type": "execute_result"
    }
   ],
   "source": [
    "pre_img"
   ]
  },
  {
   "cell_type": "code",
   "execution_count": 33,
   "id": "b559ca7b-948d-47ac-8f91-e652dc9ba35a",
   "metadata": {},
   "outputs": [
    {
     "data": {
      "text/plain": [
       "(1, 224, 224, 3)"
      ]
     },
     "execution_count": 33,
     "metadata": {},
     "output_type": "execute_result"
    }
   ],
   "source": [
    "pre_img.shape"
   ]
  },
  {
   "cell_type": "code",
   "execution_count": 34,
   "id": "1130c622-0b4e-4cfe-8dcb-723de7b84656",
   "metadata": {},
   "outputs": [
    {
     "name": "stdout",
     "output_type": "stream",
     "text": [
      "1/1 [==============================] - 3s 3s/step\n"
     ]
    }
   ],
   "source": [
    "result=model.predict(pre_img).flatten()"
   ]
  },
  {
   "cell_type": "code",
   "execution_count": 35,
   "id": "485cf973-4d98-4efa-9c13-4da0b1d7219e",
   "metadata": {},
   "outputs": [],
   "source": [
    "normalized=result/norm(result)"
   ]
  },
  {
   "cell_type": "code",
   "execution_count": 36,
   "id": "5ca3ee61-a3e1-406e-a4be-7e9d7c56b6b4",
   "metadata": {},
   "outputs": [
    {
     "data": {
      "text/plain": [
       "(100352,)"
      ]
     },
     "execution_count": 36,
     "metadata": {},
     "output_type": "execute_result"
    }
   ],
   "source": [
    "normalized.shape"
   ]
  },
  {
   "cell_type": "code",
   "execution_count": 37,
   "id": "8204ddd1-0fb8-45c2-9476-74ff9c1dc242",
   "metadata": {},
   "outputs": [],
   "source": [
    "\n",
    "\n",
    "\n",
    "def extract_feature(img_path,model):\n",
    "    img = cv2.imread(img_path)\n",
    "    img = cv2.resize(img,(224,224))\n",
    "    img=np.array(img)\n",
    "                # (number_of_image,224,224,3)\n",
    "    expand_img=np.expand_dims(img,axis=0)\n",
    "    pre_img=preprocess_input(expand_img)\n",
    "    normalized=result/norm(result)\n",
    "    return normalized"
   ]
  },
  {
   "cell_type": "code",
   "execution_count": 38,
   "id": "b8f7b732-8e68-467b-9f04-51ffcbdeea8e",
   "metadata": {},
   "outputs": [
    {
     "data": {
      "text/plain": [
       "array([0., 0., 0., ..., 0., 0., 0.], dtype=float32)"
      ]
     },
     "execution_count": 38,
     "metadata": {},
     "output_type": "execute_result"
    }
   ],
   "source": [
    "extract_feature(\"1636.jpg\",model)"
   ]
  },
  {
   "cell_type": "code",
   "execution_count": 1,
   "id": "c1a75a94-a0a2-4d7f-941c-6c4051394a84",
   "metadata": {},
   "outputs": [
    {
     "name": "stdout",
     "output_type": "stream",
     "text": [
      "Collecting tqdm\n",
      "  Obtaining dependency information for tqdm from https://files.pythonhosted.org/packages/00/e5/f12a80907d0884e6dff9c16d0c0114d81b8cd07dc3ae54c5e962cc83037e/tqdm-4.66.1-py3-none-any.whl.metadata\n",
      "  Downloading tqdm-4.66.1-py3-none-any.whl.metadata (57 kB)\n",
      "     ---------------------------------------- 0.0/57.6 kB ? eta -:--:--\n",
      "     ---------------------------------------- 57.6/57.6 kB 1.5 MB/s eta 0:00:00\n",
      "Requirement already satisfied: colorama in c:\\users\\huzai\\appdata\\local\\packages\\pythonsoftwarefoundation.python.3.11_qbz5n2kfra8p0\\localcache\\local-packages\\python311\\site-packages (from tqdm) (0.4.6)\n",
      "Downloading tqdm-4.66.1-py3-none-any.whl (78 kB)\n",
      "   ---------------------------------------- 0.0/78.3 kB ? eta -:--:--\n",
      "   ---------------------------------------- 78.3/78.3 kB 4.3 MB/s eta 0:00:00\n",
      "Installing collected packages: tqdm\n",
      "Successfully installed tqdm-4.66.1\n",
      "Note: you may need to restart the kernel to use updated packages.\n"
     ]
    },
    {
     "name": "stderr",
     "output_type": "stream",
     "text": [
      "\n",
      "[notice] A new release of pip is available: 23.2.1 -> 23.3.2\n",
      "[notice] To update, run: C:\\Users\\huzai\\AppData\\Local\\Microsoft\\WindowsApps\\PythonSoftwareFoundation.Python.3.11_qbz5n2kfra8p0\\python.exe -m pip install --upgrade pip\n"
     ]
    }
   ],
   "source": [
    "%pip install tqdm\n"
   ]
  },
  {
   "cell_type": "code",
   "execution_count": null,
   "id": "f72c0473-c550-49fe-83c6-f7d6b5d980f3",
   "metadata": {},
   "outputs": [],
   "source": [
    "import sys\n",
    "!{sys.executable} -m pip install tqdm\n"
   ]
  },
  {
   "cell_type": "code",
   "execution_count": 2,
   "id": "856d53ea-defe-4e7f-a169-1ed9330d3a91",
   "metadata": {},
   "outputs": [],
   "source": [
    "import os\n",
    "from tqdm import tqdm\n"
   ]
  },
  {
   "cell_type": "code",
   "execution_count": 10,
   "id": "7a406644-4091-46b2-9c4d-288eda0b2847",
   "metadata": {},
   "outputs": [],
   "source": [
    "filename=[]\n",
    "feature_list=[]\n",
    "\n",
    "for file in os.listdir('Dataset'):\n",
    "    filename.append(os.path.join('Dataset',file))\n",
    "\n"
   ]
  },
  {
   "cell_type": "code",
   "execution_count": 54,
   "id": "c7cf521e-8559-4d52-8457-599f5c6fd3d1",
   "metadata": {},
   "outputs": [
    {
     "data": {
      "text/plain": [
       "['Dataset\\\\10000.jpg',\n",
       " 'Dataset\\\\10001.jpg',\n",
       " 'Dataset\\\\10002.jpg',\n",
       " 'Dataset\\\\10003.jpg',\n",
       " 'Dataset\\\\10004.jpg']"
      ]
     },
     "execution_count": 54,
     "metadata": {},
     "output_type": "execute_result"
    }
   ],
   "source": [
    "filename[0:5]\n"
   ]
  },
  {
   "cell_type": "code",
   "execution_count": 3,
   "id": "a91e5f75-4eae-4db8-b2e4-d888f46ee6c7",
   "metadata": {},
   "outputs": [
    {
     "ename": "NameError",
     "evalue": "name 'filename' is not defined",
     "output_type": "error",
     "traceback": [
      "\u001b[1;31m---------------------------------------------------------------------------\u001b[0m",
      "\u001b[1;31mNameError\u001b[0m                                 Traceback (most recent call last)",
      "Cell \u001b[1;32mIn[3], line 1\u001b[0m\n\u001b[1;32m----> 1\u001b[0m \u001b[38;5;28;01mfor\u001b[39;00m file \u001b[38;5;129;01min\u001b[39;00m tqdm(\u001b[43mfilename\u001b[49m):\n\u001b[0;32m      2\u001b[0m     feature_list\u001b[38;5;241m.\u001b[39mappend(extract_feature(file,model))\n",
      "\u001b[1;31mNameError\u001b[0m: name 'filename' is not defined"
     ]
    }
   ],
   "source": [
    "for file in tqdm(filename):\n",
    "    feature_list.append(extract_feature(file,model))\n",
    "    "
   ]
  },
  {
   "cell_type": "code",
   "execution_count": null,
   "id": "32ede1d6-8178-4c79-adad-3d34b9c94075",
   "metadata": {},
   "outputs": [],
   "source": [
    "import pickle\n",
    "\n",
    "pickle.dump(feature_list,open('featurevector.pkl','wb'))\n",
    "pickle.dump(filename,open('filenames.pkl','wb'))\n"
   ]
  },
  {
   "cell_type": "code",
   "execution_count": null,
   "id": "3ed5d124-9d64-41f6-b3e6-79497dfddf3d",
   "metadata": {},
   "outputs": [],
   "source": []
  },
  {
   "cell_type": "code",
   "execution_count": null,
   "id": "0748dc39-591a-4b03-8546-32443262f039",
   "metadata": {},
   "outputs": [],
   "source": []
  }
 ],
 "metadata": {
  "kernelspec": {
   "display_name": "Python 3 (ipykernel)",
   "language": "python",
   "name": "python3"
  },
  "language_info": {
   "codemirror_mode": {
    "name": "ipython",
    "version": 3
   },
   "file_extension": ".py",
   "mimetype": "text/x-python",
   "name": "python",
   "nbconvert_exporter": "python",
   "pygments_lexer": "ipython3",
   "version": "3.11.7"
  }
 },
 "nbformat": 4,
 "nbformat_minor": 5
}
